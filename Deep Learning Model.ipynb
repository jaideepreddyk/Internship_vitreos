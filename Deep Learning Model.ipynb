{
 "cells": [
  {
   "cell_type": "code",
   "execution_count": 1,
   "metadata": {},
   "outputs": [
    {
     "name": "stderr",
     "output_type": "stream",
     "text": [
      "C:\\Users\\Jaideep\\Anaconda3\\lib\\site-packages\\h5py\\__init__.py:36: FutureWarning: Conversion of the second argument of issubdtype from `float` to `np.floating` is deprecated. In future, it will be treated as `np.float64 == np.dtype(float).type`.\n",
      "  from ._conv import register_converters as _register_converters\n"
     ]
    }
   ],
   "source": [
    "import tensorflow as tf"
   ]
  },
  {
   "cell_type": "code",
   "execution_count": 20,
   "metadata": {},
   "outputs": [
    {
     "data": {
      "text/plain": [
       "'1.5.0'"
      ]
     },
     "execution_count": 20,
     "metadata": {},
     "output_type": "execute_result"
    }
   ],
   "source": [
    "tf.__version__"
   ]
  },
  {
   "cell_type": "code",
   "execution_count": 2,
   "metadata": {},
   "outputs": [],
   "source": [
    "import numpy as np"
   ]
  },
  {
   "cell_type": "code",
   "execution_count": 3,
   "metadata": {},
   "outputs": [],
   "source": [
    "from numpy import genfromtxt"
   ]
  },
  {
   "cell_type": "code",
   "execution_count": 4,
   "metadata": {},
   "outputs": [],
   "source": [
    "import pandas as pd"
   ]
  },
  {
   "cell_type": "code",
   "execution_count": 38,
   "metadata": {},
   "outputs": [],
   "source": [
    "df=pd.read_csv('C:\\\\Users\\\\Jaideep\\\\Desktop\\\\Vitreos\\\\proj 2\\\\OneDrive_1_6-27-2019\\\\nn_data.csv')"
   ]
  },
  {
   "cell_type": "code",
   "execution_count": 39,
   "metadata": {},
   "outputs": [
    {
     "data": {
      "text/html": [
       "<div>\n",
       "<style scoped>\n",
       "    .dataframe tbody tr th:only-of-type {\n",
       "        vertical-align: middle;\n",
       "    }\n",
       "\n",
       "    .dataframe tbody tr th {\n",
       "        vertical-align: top;\n",
       "    }\n",
       "\n",
       "    .dataframe thead th {\n",
       "        text-align: right;\n",
       "    }\n",
       "</style>\n",
       "<table border=\"1\" class=\"dataframe\">\n",
       "  <thead>\n",
       "    <tr style=\"text-align: right;\">\n",
       "      <th></th>\n",
       "      <th>mo9_nitrates_Cost</th>\n",
       "      <th>mo12_Months.Since.Seen</th>\n",
       "      <th>mo3_URGENT_CARE_Cost</th>\n",
       "      <th>mv_avg_index_Chronic.Diseases</th>\n",
       "      <th>mo2_mtl_Office.Visits</th>\n",
       "      <th>mo8_nitrates</th>\n",
       "      <th>mo9_URGENT_CARE_Cost</th>\n",
       "      <th>mo11_INPATIENTHOSPITAL_Cost</th>\n",
       "      <th>mo1_Re.Admissions</th>\n",
       "      <th>mo7_SNF_Cost</th>\n",
       "      <th>...</th>\n",
       "      <th>mo8_mtl_ER.Visits</th>\n",
       "      <th>mo7_warfarin</th>\n",
       "      <th>mo2_mtl_ER.Admissions</th>\n",
       "      <th>mo5_warfarin</th>\n",
       "      <th>mo11_nitrates</th>\n",
       "      <th>OTD</th>\n",
       "      <th>Target_ER.Events</th>\n",
       "      <th>mo12_GenderF</th>\n",
       "      <th>mo12_GenderM</th>\n",
       "      <th>mo12_GenderU</th>\n",
       "    </tr>\n",
       "  </thead>\n",
       "  <tbody>\n",
       "    <tr>\n",
       "      <th>0</th>\n",
       "      <td>-0.027766</td>\n",
       "      <td>2.462636</td>\n",
       "      <td>-0.074706</td>\n",
       "      <td>-0.331913</td>\n",
       "      <td>-0.386676</td>\n",
       "      <td>-0.056688</td>\n",
       "      <td>-0.060457</td>\n",
       "      <td>-0.057075</td>\n",
       "      <td>-0.069366</td>\n",
       "      <td>-0.063474</td>\n",
       "      <td>...</td>\n",
       "      <td>-0.155901</td>\n",
       "      <td>-0.063317</td>\n",
       "      <td>-0.085439</td>\n",
       "      <td>-0.062105</td>\n",
       "      <td>-0.059005</td>\n",
       "      <td>-0.210575</td>\n",
       "      <td>0.0</td>\n",
       "      <td>0</td>\n",
       "      <td>0</td>\n",
       "      <td>1</td>\n",
       "    </tr>\n",
       "    <tr>\n",
       "      <th>1</th>\n",
       "      <td>-0.027766</td>\n",
       "      <td>2.462636</td>\n",
       "      <td>-0.074706</td>\n",
       "      <td>-0.331913</td>\n",
       "      <td>-0.386676</td>\n",
       "      <td>-0.056688</td>\n",
       "      <td>-0.060457</td>\n",
       "      <td>-0.057075</td>\n",
       "      <td>-0.069366</td>\n",
       "      <td>-0.063474</td>\n",
       "      <td>...</td>\n",
       "      <td>-0.155901</td>\n",
       "      <td>-0.063317</td>\n",
       "      <td>-0.085439</td>\n",
       "      <td>-0.062105</td>\n",
       "      <td>-0.059005</td>\n",
       "      <td>-0.210575</td>\n",
       "      <td>0.0</td>\n",
       "      <td>0</td>\n",
       "      <td>0</td>\n",
       "      <td>1</td>\n",
       "    </tr>\n",
       "    <tr>\n",
       "      <th>2</th>\n",
       "      <td>-0.027766</td>\n",
       "      <td>2.462636</td>\n",
       "      <td>-0.074706</td>\n",
       "      <td>-0.331913</td>\n",
       "      <td>-0.386676</td>\n",
       "      <td>-0.056688</td>\n",
       "      <td>-0.060457</td>\n",
       "      <td>-0.057075</td>\n",
       "      <td>-0.069366</td>\n",
       "      <td>-0.063474</td>\n",
       "      <td>...</td>\n",
       "      <td>-0.155901</td>\n",
       "      <td>-0.063317</td>\n",
       "      <td>-0.085439</td>\n",
       "      <td>-0.062105</td>\n",
       "      <td>-0.059005</td>\n",
       "      <td>-0.210575</td>\n",
       "      <td>0.0</td>\n",
       "      <td>0</td>\n",
       "      <td>0</td>\n",
       "      <td>1</td>\n",
       "    </tr>\n",
       "    <tr>\n",
       "      <th>3</th>\n",
       "      <td>-0.027766</td>\n",
       "      <td>0.257939</td>\n",
       "      <td>-0.074706</td>\n",
       "      <td>-0.331913</td>\n",
       "      <td>-0.386676</td>\n",
       "      <td>-0.056688</td>\n",
       "      <td>-0.060457</td>\n",
       "      <td>-0.057075</td>\n",
       "      <td>-0.069366</td>\n",
       "      <td>-0.063474</td>\n",
       "      <td>...</td>\n",
       "      <td>-0.155901</td>\n",
       "      <td>-0.063317</td>\n",
       "      <td>-0.085439</td>\n",
       "      <td>-0.062105</td>\n",
       "      <td>-0.059005</td>\n",
       "      <td>-0.210575</td>\n",
       "      <td>0.0</td>\n",
       "      <td>1</td>\n",
       "      <td>0</td>\n",
       "      <td>0</td>\n",
       "    </tr>\n",
       "    <tr>\n",
       "      <th>4</th>\n",
       "      <td>-0.027766</td>\n",
       "      <td>2.462636</td>\n",
       "      <td>-0.074706</td>\n",
       "      <td>-0.331913</td>\n",
       "      <td>-0.386676</td>\n",
       "      <td>-0.056688</td>\n",
       "      <td>-0.060457</td>\n",
       "      <td>-0.057075</td>\n",
       "      <td>-0.069366</td>\n",
       "      <td>-0.063474</td>\n",
       "      <td>...</td>\n",
       "      <td>-0.155901</td>\n",
       "      <td>-0.063317</td>\n",
       "      <td>-0.085439</td>\n",
       "      <td>-0.062105</td>\n",
       "      <td>-0.059005</td>\n",
       "      <td>-0.210575</td>\n",
       "      <td>0.0</td>\n",
       "      <td>0</td>\n",
       "      <td>0</td>\n",
       "      <td>1</td>\n",
       "    </tr>\n",
       "  </tbody>\n",
       "</table>\n",
       "<p>5 rows × 328 columns</p>\n",
       "</div>"
      ],
      "text/plain": [
       "   mo9_nitrates_Cost  mo12_Months.Since.Seen  mo3_URGENT_CARE_Cost  \\\n",
       "0          -0.027766                2.462636             -0.074706   \n",
       "1          -0.027766                2.462636             -0.074706   \n",
       "2          -0.027766                2.462636             -0.074706   \n",
       "3          -0.027766                0.257939             -0.074706   \n",
       "4          -0.027766                2.462636             -0.074706   \n",
       "\n",
       "   mv_avg_index_Chronic.Diseases  mo2_mtl_Office.Visits  mo8_nitrates  \\\n",
       "0                      -0.331913              -0.386676     -0.056688   \n",
       "1                      -0.331913              -0.386676     -0.056688   \n",
       "2                      -0.331913              -0.386676     -0.056688   \n",
       "3                      -0.331913              -0.386676     -0.056688   \n",
       "4                      -0.331913              -0.386676     -0.056688   \n",
       "\n",
       "   mo9_URGENT_CARE_Cost  mo11_INPATIENTHOSPITAL_Cost  mo1_Re.Admissions  \\\n",
       "0             -0.060457                    -0.057075          -0.069366   \n",
       "1             -0.060457                    -0.057075          -0.069366   \n",
       "2             -0.060457                    -0.057075          -0.069366   \n",
       "3             -0.060457                    -0.057075          -0.069366   \n",
       "4             -0.060457                    -0.057075          -0.069366   \n",
       "\n",
       "   mo7_SNF_Cost      ...       mo8_mtl_ER.Visits  mo7_warfarin  \\\n",
       "0     -0.063474      ...               -0.155901     -0.063317   \n",
       "1     -0.063474      ...               -0.155901     -0.063317   \n",
       "2     -0.063474      ...               -0.155901     -0.063317   \n",
       "3     -0.063474      ...               -0.155901     -0.063317   \n",
       "4     -0.063474      ...               -0.155901     -0.063317   \n",
       "\n",
       "   mo2_mtl_ER.Admissions  mo5_warfarin  mo11_nitrates       OTD  \\\n",
       "0              -0.085439     -0.062105      -0.059005 -0.210575   \n",
       "1              -0.085439     -0.062105      -0.059005 -0.210575   \n",
       "2              -0.085439     -0.062105      -0.059005 -0.210575   \n",
       "3              -0.085439     -0.062105      -0.059005 -0.210575   \n",
       "4              -0.085439     -0.062105      -0.059005 -0.210575   \n",
       "\n",
       "   Target_ER.Events  mo12_GenderF  mo12_GenderM  mo12_GenderU  \n",
       "0               0.0             0             0             1  \n",
       "1               0.0             0             0             1  \n",
       "2               0.0             0             0             1  \n",
       "3               0.0             1             0             0  \n",
       "4               0.0             0             0             1  \n",
       "\n",
       "[5 rows x 328 columns]"
      ]
     },
     "execution_count": 39,
     "metadata": {},
     "output_type": "execute_result"
    }
   ],
   "source": [
    "df.head()"
   ]
  },
  {
   "cell_type": "markdown",
   "metadata": {},
   "source": [
    "#### Train-test split"
   ]
  },
  {
   "cell_type": "code",
   "execution_count": 31,
   "metadata": {},
   "outputs": [],
   "source": [
    "from sklearn.model_selection import train_test_split"
   ]
  },
  {
   "cell_type": "code",
   "execution_count": 41,
   "metadata": {},
   "outputs": [],
   "source": [
    "train_df, test_df = train_test_split(df, test_size=0.25)"
   ]
  },
  {
   "cell_type": "code",
   "execution_count": 43,
   "metadata": {},
   "outputs": [],
   "source": [
    "X_train=train_df.loc[:,train_df.columns!='Target_ER.Events']"
   ]
  },
  {
   "cell_type": "code",
   "execution_count": 44,
   "metadata": {},
   "outputs": [],
   "source": [
    "Y_train=train_df['Target_ER.Events']"
   ]
  },
  {
   "cell_type": "code",
   "execution_count": 45,
   "metadata": {},
   "outputs": [],
   "source": [
    "X_test=test_df.loc[:,test_df.columns!='Target_ER.Events']"
   ]
  },
  {
   "cell_type": "code",
   "execution_count": 46,
   "metadata": {},
   "outputs": [],
   "source": [
    "Y_test=test_df['Target_ER.Events']"
   ]
  },
  {
   "cell_type": "code",
   "execution_count": 47,
   "metadata": {},
   "outputs": [
    {
     "data": {
      "text/plain": [
       "(84522, 327)"
      ]
     },
     "execution_count": 47,
     "metadata": {},
     "output_type": "execute_result"
    }
   ],
   "source": [
    "X_train.shape"
   ]
  },
  {
   "cell_type": "markdown",
   "metadata": {},
   "source": [
    "##### SMOTE "
   ]
  },
  {
   "cell_type": "code",
   "execution_count": 48,
   "metadata": {},
   "outputs": [
    {
     "name": "stderr",
     "output_type": "stream",
     "text": [
      "Using TensorFlow backend.\n"
     ]
    }
   ],
   "source": [
    "from imblearn.over_sampling import SMOTE"
   ]
  },
  {
   "cell_type": "code",
   "execution_count": 49,
   "metadata": {},
   "outputs": [],
   "source": [
    "sm = SMOTE(random_state=27, ratio=1.0)"
   ]
  },
  {
   "cell_type": "code",
   "execution_count": 50,
   "metadata": {},
   "outputs": [],
   "source": [
    "X_train, Y_train = sm.fit_sample(X_train, Y_train)"
   ]
  },
  {
   "cell_type": "markdown",
   "metadata": {},
   "source": [
    "#### Building the Neural Network"
   ]
  },
  {
   "cell_type": "code",
   "execution_count": 51,
   "metadata": {},
   "outputs": [],
   "source": [
    "from keras import optimizers\n",
    "from keras.layers import Dense\n",
    "from keras .models import Sequential\n",
    "import matplotlib.pyplot as plt"
   ]
  },
  {
   "cell_type": "code",
   "execution_count": 92,
   "metadata": {},
   "outputs": [],
   "source": [
    "model = Sequential()\n",
    "model.add(Dense(128, input_dim = 327, activation = 'relu'))\n",
    "model.add(Dense(128,activation='relu'))\n",
    "model.add(Dense(1, activation = 'sigmoid'))\n",
    "model.compile(loss = 'binary_crossentropy', optimizer='Adagrad', metrics= ['accuracy'])"
   ]
  },
  {
   "cell_type": "code",
   "execution_count": 93,
   "metadata": {},
   "outputs": [
    {
     "name": "stdout",
     "output_type": "stream",
     "text": [
      "_________________________________________________________________\n",
      "Layer (type)                 Output Shape              Param #   \n",
      "=================================================================\n",
      "dense_14 (Dense)             (None, 128)               41984     \n",
      "_________________________________________________________________\n",
      "dense_15 (Dense)             (None, 128)               16512     \n",
      "_________________________________________________________________\n",
      "dense_16 (Dense)             (None, 1)                 129       \n",
      "=================================================================\n",
      "Total params: 58,625\n",
      "Trainable params: 58,625\n",
      "Non-trainable params: 0\n",
      "_________________________________________________________________\n"
     ]
    }
   ],
   "source": [
    "model.summary()"
   ]
  },
  {
   "cell_type": "code",
   "execution_count": 94,
   "metadata": {},
   "outputs": [
    {
     "data": {
      "text/plain": [
       "array([0., 0., 0., ..., 1., 1., 1.])"
      ]
     },
     "execution_count": 94,
     "metadata": {},
     "output_type": "execute_result"
    }
   ],
   "source": [
    "Y_train"
   ]
  },
  {
   "cell_type": "code",
   "execution_count": 95,
   "metadata": {},
   "outputs": [
    {
     "data": {
      "text/plain": [
       "array([0., 0., 0., ..., 1., 1., 1.])"
      ]
     },
     "execution_count": 95,
     "metadata": {},
     "output_type": "execute_result"
    }
   ],
   "source": [
    "Y_train"
   ]
  },
  {
   "cell_type": "code",
   "execution_count": 96,
   "metadata": {},
   "outputs": [],
   "source": [
    "Y_test=Y_test.astype('category')"
   ]
  },
  {
   "cell_type": "code",
   "execution_count": 97,
   "metadata": {},
   "outputs": [
    {
     "name": "stdout",
     "output_type": "stream",
     "text": [
      "Epoch 1/10\n",
      " - 6s - loss: 0.5660 - acc: 0.7078\n",
      "Epoch 2/10\n",
      " - 6s - loss: 0.5292 - acc: 0.7354\n",
      "Epoch 3/10\n",
      " - 6s - loss: 0.5058 - acc: 0.7527\n",
      "Epoch 4/10\n",
      " - 6s - loss: 0.4854 - acc: 0.7675\n",
      "Epoch 5/10\n",
      " - 6s - loss: 0.4677 - acc: 0.7801\n",
      "Epoch 6/10\n",
      " - 6s - loss: 0.4520 - acc: 0.7896\n",
      "Epoch 7/10\n",
      " - 6s - loss: 0.4380 - acc: 0.7984\n",
      "Epoch 8/10\n",
      " - 6s - loss: 0.4256 - acc: 0.8054\n",
      "Epoch 9/10\n",
      " - 6s - loss: 0.4144 - acc: 0.8117\n",
      "Epoch 10/10\n",
      " - 6s - loss: 0.4039 - acc: 0.8186\n"
     ]
    },
    {
     "data": {
      "text/plain": [
       "<keras.callbacks.History at 0x1ad908c9ef0>"
      ]
     },
     "execution_count": 97,
     "metadata": {},
     "output_type": "execute_result"
    }
   ],
   "source": [
    "model.fit(X_train,Y_train,epochs=10,batch_size=32)"
   ]
  },
  {
   "cell_type": "code",
   "execution_count": 98,
   "metadata": {},
   "outputs": [
    {
     "name": "stdout",
     "output_type": "stream",
     "text": [
      "[[0]\n",
      " [1]\n",
      " [1]\n",
      " ...\n",
      " [0]\n",
      " [0]\n",
      " [0]]\n"
     ]
    }
   ],
   "source": [
    "predictions = model.predict_classes(X_test, verbose = False) #GIVES CLASSES\n",
    "print(predictions)"
   ]
  },
  {
   "cell_type": "code",
   "execution_count": 99,
   "metadata": {},
   "outputs": [],
   "source": [
    "preds=predictions.flatten()"
   ]
  },
  {
   "cell_type": "code",
   "execution_count": 100,
   "metadata": {},
   "outputs": [],
   "source": [
    "from sklearn.metrics import roc_auc_score,auc,roc_curve"
   ]
  },
  {
   "cell_type": "code",
   "execution_count": 101,
   "metadata": {},
   "outputs": [],
   "source": [
    "false_positive_rate, true_positive_rate, thresholds = roc_curve(Y_test, preds)"
   ]
  },
  {
   "cell_type": "code",
   "execution_count": 102,
   "metadata": {},
   "outputs": [
    {
     "name": "stdout",
     "output_type": "stream",
     "text": [
      "0.6600233034897434\n"
     ]
    }
   ],
   "source": [
    "print(auc(false_positive_rate, true_positive_rate))"
   ]
  },
  {
   "cell_type": "code",
   "execution_count": 103,
   "metadata": {},
   "outputs": [
    {
     "name": "stdout",
     "output_type": "stream",
     "text": [
      "0.6600233034897434\n"
     ]
    }
   ],
   "source": [
    "print(roc_auc_score(Y_test, preds))"
   ]
  },
  {
   "cell_type": "code",
   "execution_count": 104,
   "metadata": {},
   "outputs": [
    {
     "data": {
      "text/plain": [
       "[<matplotlib.lines.Line2D at 0x1ad90bd9d68>]"
      ]
     },
     "execution_count": 104,
     "metadata": {},
     "output_type": "execute_result"
    },
    {
     "data": {
      "image/png": "[encoded data removed]",
      "text/plain": [
       "<Figure size 432x288 with 1 Axes>"
      ]
     },
     "metadata": {},
     "output_type": "display_data"
    }
   ],
   "source": [
    "plt.plot(false_positive_rate,true_positive_rate)"
   ]
  },
  {
   "cell_type": "code",
   "execution_count": 105,
   "metadata": {},
   "outputs": [
    {
     "name": "stdout",
     "output_type": "stream",
     "text": [
      "              precision    recall  f1-score   support\n",
      "\n",
      "         0.0       0.86      0.76      0.80     21879\n",
      "         1.0       0.40      0.56      0.47      6296\n",
      "\n",
      "    accuracy                           0.71     28175\n",
      "   macro avg       0.63      0.66      0.64     28175\n",
      "weighted avg       0.76      0.71      0.73     28175\n",
      "\n"
     ]
    }
   ],
   "source": [
    "from sklearn.metrics import classification_report\n",
    "print(classification_report(Y_test, preds))"
   ]
  },
  {
   "cell_type": "code",
   "execution_count": null,
   "metadata": {},
   "outputs": [],
   "source": []
  }
 ],
 "metadata": {
  "kernelspec": {
   "display_name": "Python 3",
   "language": "python",
   "name": "python3"
  },
  "language_info": {
   "codemirror_mode": {
    "name": "ipython",
    "version": 3
   },
   "file_extension": ".py",
   "mimetype": "text/x-python",
   "name": "python",
   "nbconvert_exporter": "python",
   "pygments_lexer": "ipython3",
   "version": "3.6.5"
  }
 },
 "nbformat": 4,
 "nbformat_minor": 2
}
